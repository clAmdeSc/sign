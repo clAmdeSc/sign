{
 "cells": [
  {
   "cell_type": "code",
   "execution_count": 3,
   "metadata": {
    "colab": {},
    "colab_type": "code",
    "id": "Dc-9IeySbgZ_"
   },
   "outputs": [],
   "source": [
    "# Importing Required libraries\n",
    "\n",
    "import os\n",
    "import numpy as np\n",
    "import shutil\n",
    "import random"
   ]
  },
  {
   "cell_type": "code",
   "execution_count": 1,
   "metadata": {
    "colab": {
     "base_uri": "https://localhost:8080/",
     "height": 1000
    },
    "colab_type": "code",
    "id": "WIJwhqYCbu13",
    "outputId": "cb2159e6-34b5-435f-cfb5-b48916548fbb"
   },
   "outputs": [
    {
     "ename": "NameError",
     "evalue": "name 'os' is not defined",
     "output_type": "error",
     "traceback": [
      "\u001b[1;31m---------------------------------------------------------------------------\u001b[0m",
      "\u001b[1;31mNameError\u001b[0m                                 Traceback (most recent call last)",
      "Cell \u001b[1;32mIn[1], line 18\u001b[0m\n\u001b[0;32m     12\u001b[0m \u001b[38;5;66;03m#Iterating through all the classes\u001b[39;00m\n\u001b[0;32m     14\u001b[0m \u001b[38;5;28;01mfor\u001b[39;00m \u001b[38;5;28mcls\u001b[39m \u001b[38;5;129;01min\u001b[39;00m classes_dir:\n\u001b[0;32m     15\u001b[0m \n\u001b[0;32m     16\u001b[0m   \u001b[38;5;66;03m#Creating Train and Test folders\u001b[39;00m\n\u001b[1;32m---> 18\u001b[0m   \u001b[43mos\u001b[49m\u001b[38;5;241m.\u001b[39mmakedirs(train_path\u001b[38;5;241m+\u001b[39m\u001b[38;5;28mcls\u001b[39m)\n\u001b[0;32m     19\u001b[0m   os\u001b[38;5;241m.\u001b[39mmakedirs(test_path\u001b[38;5;241m+\u001b[39m\u001b[38;5;28mcls\u001b[39m)\n\u001b[0;32m     21\u001b[0m   \u001b[38;5;66;03m# Dividing images into train and test set\u001b[39;00m\n",
      "\u001b[1;31mNameError\u001b[0m: name 'os' is not defined"
     ]
    }
   ],
   "source": [
    "# Defining paths to root folders\n",
    "\n",
    "root_dir='Train-Test'\n",
    "src='ISL Recognition/Preprocessed Images/'\n",
    "train_path=root_dir+'/Train/'\n",
    "test_path=root_dir+'/Test/'\n",
    "\n",
    "classes_dir=['1','2','3','4','5','6','7','8','9','a','b','c','d','e','f','g','h','i','j','k','l','m','n','o','p','q','r','s','t','u','v','w','x','y','z']\n",
    "\n",
    "test_ratio=0.2\n",
    "\n",
    "#Iterating through all the classes\n",
    "\n",
    "for cls in classes_dir:\n",
    "\n",
    "  #Creating Train and Test folders\n",
    "\n",
    "  os.makedirs(train_path+cls)\n",
    "  os.makedirs(test_path+cls)\n",
    "\n",
    "  # Dividing images into train and test set\n",
    "    \n",
    "  all_file_names=os.listdir(src+cls)\n",
    "  np.random.shuffle(all_file_names)\n",
    "  train_file_names,test_file_names=np.split(np.array(all_file_names),[int(len(all_file_names)*(1-test_ratio))])\n",
    "  \n",
    "  train_file_names=[src+'/'+cls+'/'+name for name in train_file_names.tolist()]\n",
    "  test_file_names=[src+'/'+cls+'/'+name for name in test_file_names.tolist()]\n",
    "\n",
    "  print('In class ',cls )\n",
    "  print('Total Images ',len(all_file_names))\n",
    "  print('Training images ',len(train_file_names))\n",
    "  print('Test images ',len(test_file_names))\n",
    "\n",
    "  # copy - pasting images\n",
    "  for name in train_file_names:\n",
    "    shutil.copy(name, root_dir+'/Train/'+cls)\n",
    "  print(\"Training complete!\")\n",
    "\n",
    "  for name in test_file_names:\n",
    "    shutil.copy(name, root_dir+'/Test/'+cls)\n",
    "  print('Testing complete!')"
   ]
  },
  {
   "cell_type": "code",
   "execution_count": null,
   "metadata": {
    "colab": {},
    "colab_type": "code",
    "id": "crK5CA-2nspf"
   },
   "outputs": [],
   "source": []
  }
 ],
 "metadata": {
  "colab": {
   "collapsed_sections": [],
   "name": "Dividing Dataset",
   "provenance": []
  },
  "kernelspec": {
   "display_name": "Python 3 (ipykernel)",
   "language": "python",
   "name": "python3"
  },
  "language_info": {
   "codemirror_mode": {
    "name": "ipython",
    "version": 3
   },
   "file_extension": ".py",
   "mimetype": "text/x-python",
   "name": "python",
   "nbconvert_exporter": "python",
   "pygments_lexer": "ipython3",
   "version": "3.10.0"
  }
 },
 "nbformat": 4,
 "nbformat_minor": 4
}
